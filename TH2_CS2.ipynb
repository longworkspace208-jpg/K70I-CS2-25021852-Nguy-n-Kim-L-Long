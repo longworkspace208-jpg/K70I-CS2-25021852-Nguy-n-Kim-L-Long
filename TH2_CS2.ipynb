{
 "cells": [
  {
   "cell_type": "code",
   "execution_count": 7,
   "metadata": {
    "colab": {
     "base_uri": "https://localhost:8080/"
    },
    "executionInfo": {
     "elapsed": 43,
     "status": "ok",
     "timestamp": 1758033992518,
     "user": {
      "displayName": "25021852 Nguyễn Kim Lê Long",
      "userId": "00358996170601832269"
     },
     "user_tz": -420
    },
    "id": "peFhCu9cRP4L",
    "outputId": "629e344e-3e13-4bda-c24c-e60e94e271bf"
   },
   "outputs": [
    {
     "name": "stdout",
     "output_type": "stream",
     "text": [
      "Hello World!\n"
     ]
    }
   ],
   "source": [
    "#W2A1\n",
    "print(\"Hello World!\")"
   ]
  },
  {
   "cell_type": "code",
   "execution_count": 8,
   "metadata": {
    "colab": {
     "base_uri": "https://localhost:8080/"
    },
    "executionInfo": {
     "elapsed": 2600,
     "status": "ok",
     "timestamp": 1758033995116,
     "user": {
      "displayName": "25021852 Nguyễn Kim Lê Long",
      "userId": "00358996170601832269"
     },
     "user_tz": -420
    },
    "id": "3spUJPgmRVeH",
    "outputId": "f44930b7-e367-457e-931e-8c7636dd7baf"
   },
   "outputs": [
    {
     "name": "stdout",
     "output_type": "stream",
     "text": [
      "Xin chào,  abc !\n"
     ]
    }
   ],
   "source": [
    "#W2A2\n",
    "a = input()\n",
    "print(\"Xin chào, \", a, \"!\")"
   ]
  },
  {
   "cell_type": "code",
   "execution_count": 9,
   "metadata": {
    "colab": {
     "base_uri": "https://localhost:8080/",
     "height": 228
    },
    "executionInfo": {
     "elapsed": 1083,
     "status": "error",
     "timestamp": 1758033996206,
     "user": {
      "displayName": "25021852 Nguyễn Kim Lê Long",
      "userId": "00358996170601832269"
     },
     "user_tz": -420
    },
    "id": "cjwzQIM0UBXo",
    "outputId": "8ea88cf2-a311-46c6-b147-c16ed566c5c9"
   },
   "outputs": [
    {
     "name": "stdout",
     "output_type": "stream",
     "text": [
      "a + b =  5\n",
      "a - b =  -1\n",
      "a * b =  6\n",
      "Phần nguyên a / b:  0\n",
      "Phần dư a / b =  2\n",
      "a / b =  0.67\n"
     ]
    }
   ],
   "source": [
    "#W2A3\n",
    "a = int(input())\n",
    "b = int(input())\n",
    "Tong = a + b\n",
    "Hieu = a - b\n",
    "Tich = a * b\n",
    "Phan_nguyen = a // b\n",
    "Phan_du = a % b\n",
    "Thuong = a / b\n",
    "print(\"a + b = \", Tong)\n",
    "print(\"a - b = \", Hieu)\n",
    "print(\"a * b = \", Tich)\n",
    "print(\"Phần nguyên a / b: \", Phan_nguyen)\n",
    "print(\"Phần dư a / b = \", Phan_du)\n",
    "print(\"a / b = \", f\"{Thuong:.2f}\")"
   ]
  },
  {
   "cell_type": "code",
   "execution_count": 10,
   "metadata": {
    "executionInfo": {
     "elapsed": 3829,
     "status": "aborted",
     "timestamp": 1758033996240,
     "user": {
      "displayName": "25021852 Nguyễn Kim Lê Long",
      "userId": "00358996170601832269"
     },
     "user_tz": -420
    },
    "id": "4ygtJrW87LNH"
   },
   "outputs": [
    {
     "name": "stdout",
     "output_type": "stream",
     "text": [
      "4.20\n"
     ]
    }
   ],
   "source": [
    "#W2A4\n",
    "a1, b1, c1, a2, b2, a3 = map(int, input().split())\n",
    "TB = ((a1 + b1 + c1) + (a2 + b2) * 2 + a3 * 3) / 10\n",
    "print(f\"{TB:.2f}\")"
   ]
  },
  {
   "cell_type": "code",
   "execution_count": 12,
   "metadata": {
    "executionInfo": {
     "elapsed": 3829,
     "status": "aborted",
     "timestamp": 1758033996241,
     "user": {
      "displayName": "25021852 Nguyễn Kim Lê Long",
      "userId": "00358996170601832269"
     },
     "user_tz": -420
    },
    "id": "GBhkauYU9Tg1"
   },
   "outputs": [
    {
     "name": "stdout",
     "output_type": "stream",
     "text": [
      "8\n"
     ]
    }
   ],
   "source": [
    "#W2A5\n",
    "a, b = map(int, input().split())\n",
    "ans = a ** b\n",
    "print(ans)"
   ]
  },
  {
   "cell_type": "code",
   "execution_count": 13,
   "metadata": {
    "executionInfo": {
     "elapsed": 3829,
     "status": "aborted",
     "timestamp": 1758033996242,
     "user": {
      "displayName": "25021852 Nguyễn Kim Lê Long",
      "userId": "00358996170601832269"
     },
     "user_tz": -420
    },
    "id": "QVxK38RC-Aga"
   },
   "outputs": [
    {
     "name": "stdout",
     "output_type": "stream",
     "text": [
      "Mã Unicode của a là: 97\n",
      "Ký tự hoa tương ứng: A\n"
     ]
    }
   ],
   "source": [
    "#W2A6\n",
    "ch = input()\n",
    "print(\"Mã Unicode của\", ch, \"là:\", ord(ch))\n",
    "ch_upper = chr(ord(ch) - 32)\n",
    "print(\"Ký tự hoa tương ứng:\", ch_upper)\n"
   ]
  },
  {
   "cell_type": "code",
   "execution_count": 14,
   "metadata": {
    "colab": {
     "base_uri": "https://localhost:8080/"
    },
    "executionInfo": {
     "elapsed": 19,
     "status": "ok",
     "timestamp": 1758034080973,
     "user": {
      "displayName": "25021852 Nguyễn Kim Lê Long",
      "userId": "00358996170601832269"
     },
     "user_tz": -420
    },
    "id": "QXFpuQHk_gZM",
    "outputId": "4ab7f9af-64aa-4ba3-b4c3-dafa101bf917"
   },
   "outputs": [
    {
     "name": "stdout",
     "output_type": "stream",
     "text": [
      "A =  512\n",
      "B =  512\n"
     ]
    }
   ],
   "source": [
    "#W2A7\n",
    "A = ((13 ** 2) * 3) + 5\n",
    "B = 13 ** 2 * 3 + 5\n",
    "print(\"A = \", A)\n",
    "print(\"B = \", B)"
   ]
  },
  {
   "cell_type": "code",
   "execution_count": 15,
   "metadata": {
    "colab": {
     "base_uri": "https://localhost:8080/"
    },
    "executionInfo": {
     "elapsed": 1055,
     "status": "ok",
     "timestamp": 1758034203788,
     "user": {
      "displayName": "25021852 Nguyễn Kim Lê Long",
      "userId": "00358996170601832269"
     },
     "user_tz": -420
    },
    "id": "CW3JXK66_2V6",
    "outputId": "0f4d6a25-d68f-45c1-b8c7-2f6a54303be7"
   },
   "outputs": [
    {
     "name": "stdout",
     "output_type": "stream",
     "text": [
      "37.40\n"
     ]
    }
   ],
   "source": [
    "#W2A8\n",
    "C = int(input())\n",
    "F = 9 / 5 * C + 32\n",
    "print(f\"{F:.2f}\")\n"
   ]
  },
  {
   "cell_type": "code",
   "execution_count": 16,
   "metadata": {
    "colab": {
     "base_uri": "https://localhost:8080/"
    },
    "executionInfo": {
     "elapsed": 1188,
     "status": "ok",
     "timestamp": 1758034334056,
     "user": {
      "displayName": "25021852 Nguyễn Kim Lê Long",
      "userId": "00358996170601832269"
     },
     "user_tz": -420
    },
    "id": "0xMaO1f5AShQ",
    "outputId": "a803fae8-c10d-429b-d430-d039f9c9a7ce"
   },
   "outputs": [
    {
     "name": "stdout",
     "output_type": "stream",
     "text": [
      "29.60\n"
     ]
    }
   ],
   "source": [
    "#W2A9 ShoppingOnline\n",
    "X = int(input())\n",
    "Ans = X + 10 + X * 30 / 100 + X * 10 / 100\n",
    "print(f\"{Ans:.2f}\")"
   ]
  },
  {
   "cell_type": "code",
   "execution_count": null,
   "metadata": {
    "colab": {
     "base_uri": "https://localhost:8080/"
    },
    "executionInfo": {
     "elapsed": 6932,
     "status": "ok",
     "timestamp": 1758034750287,
     "user": {
      "displayName": "25021852 Nguyễn Kim Lê Long",
      "userId": "00358996170601832269"
     },
     "user_tz": -420
    },
    "id": "mS9u0Up5Axzu",
    "outputId": "6ed15e50-5589-40f9-c77e-47f8b44a2c76"
   },
   "outputs": [
    {
     "name": "stdout",
     "output_type": "stream",
     "text": [
      "Hi  nhan duc  and  long\n"
     ]
    }
   ],
   "source": [
    "#W2A10 Friend Names\n",
    "a, b, c = input().split()\n",
    "print(\"Hi\", c, b, \"and\", a)"
   ]
  },
  {
   "cell_type": "code",
   "execution_count": null,
   "metadata": {},
   "outputs": [],
   "source": [
    "#W2A11 \n",
    "h = int(input())\n",
    "m = int(input())\n",
    "s = h * 3600 + m * 60\n",
    "print(s)"
   ]
  },
  {
   "cell_type": "code",
   "execution_count": null,
   "metadata": {},
   "outputs": [],
   "source": [
    "#W2A12\n",
    "n = int(input())\n",
    "print(n * n * 6)"
   ]
  },
  {
   "cell_type": "code",
   "execution_count": 3,
   "metadata": {},
   "outputs": [
    {
     "name": "stdout",
     "output_type": "stream",
     "text": [
      "4\n"
     ]
    }
   ],
   "source": [
    "#W2A13\n",
    "a, b = map(int, input().split())\n",
    "Tich = a * b\n",
    "Ans = int(Tich / 10) % 10\n",
    "print(Ans)"
   ]
  },
  {
   "cell_type": "code",
   "execution_count": 4,
   "metadata": {},
   "outputs": [
    {
     "name": "stdout",
     "output_type": "stream",
     "text": [
      "4 3\n"
     ]
    }
   ],
   "source": [
    "#W2A14\n",
    "a, b = map(int, input().split())\n",
    "a, b = b, a\n",
    "print(a, b)"
   ]
  },
  {
   "cell_type": "code",
   "execution_count": 5,
   "metadata": {},
   "outputs": [
    {
     "name": "stdout",
     "output_type": "stream",
     "text": [
      "13\n"
     ]
    }
   ],
   "source": [
    "#W2A15\n",
    "def SoSao(n):\n",
    "    return 6 * n * (n - 1) + 1\n",
    "N = int(input())\n",
    "print(SoSao(N))"
   ]
  },
  {
   "cell_type": "code",
   "execution_count": 6,
   "metadata": {},
   "outputs": [
    {
     "name": "stdout",
     "output_type": "stream",
     "text": [
      "Spring\n",
      "Summer\n",
      "Autumn\n",
      "Winter\n"
     ]
    }
   ],
   "source": [
    "#W2A16\n",
    "print(\"Spring\\nSummer\\nAutumn\\nWinter\")"
   ]
  },
  {
   "cell_type": "code",
   "execution_count": 7,
   "metadata": {},
   "outputs": [
    {
     "name": "stdout",
     "output_type": "stream",
     "text": [
      "*\n",
      "***\n",
      "*****\n"
     ]
    }
   ],
   "source": [
    "#W2A17 DrawTriangle\n",
    "print(\"*\\n***\\n*****\")"
   ]
  },
  {
   "cell_type": "code",
   "execution_count": 8,
   "metadata": {},
   "outputs": [
    {
     "name": "stdout",
     "output_type": "stream",
     "text": [
      " ###  ##   ### ###\n",
      "  #   #  #  #   #  \n",
      "  #   #  #  #   #  \n",
      "  #   #  #  #   #  \n",
      "  #   # #   #   #  \n"
     ]
    }
   ],
   "source": [
    "#W2A18 Banner\n",
    "print(\" ###  ##   ### ###\")\n",
    "print(\"  #   #  #  #   #  \")\n",
    "print(\"  #   #  #  #   #  \")\n",
    "print(\"  #   #  #  #   #  \")\n",
    "print(\"  #   # #   #   #  \")\n"
   ]
  },
  {
   "cell_type": "code",
   "execution_count": 9,
   "metadata": {},
   "outputs": [
    {
     "name": "stdout",
     "output_type": "stream",
     "text": [
      "Monday\n",
      "Tuesday\n",
      "Wednesday\n",
      "Thursday\n",
      "Friday\n",
      "Saturday\n",
      "Sunday\n"
     ]
    }
   ],
   "source": [
    "#W2A19 [Days of the week]\n",
    "print(\"Monday\\nTuesday\\nWednesday\\nThursday\\nFriday\\nSaturday\\nSunday\")"
   ]
  },
  {
   "cell_type": "code",
   "execution_count": 11,
   "metadata": {},
   "outputs": [
    {
     "name": "stdout",
     "output_type": "stream",
     "text": [
      "January\n",
      "February\n",
      "March\n",
      "April\n",
      "May\n",
      "June\n",
      "July\n",
      "August\n",
      "September\n",
      "October\n",
      "November\n",
      "December\n"
     ]
    }
   ],
   "source": [
    "#W2A20 [Months of the year]\n",
    "print(\"January\\nFebruary\\nMarch\\nApril\\nMay\\nJune\\nJuly\\nAugust\\nSeptember\\nOctober\\nNovember\\nDecember\")"
   ]
  },
  {
   "cell_type": "code",
   "execution_count": 15,
   "metadata": {},
   "outputs": [
    {
     "name": "stdout",
     "output_type": "stream",
     "text": [
      "Hello, world\n",
      "Hello, world\n",
      "Hello, world\n",
      "Hello, world\n",
      "Hello, world\n",
      "Hello, world\n",
      "Hello, world\n",
      "Hello, world\n",
      "Hello, world\n",
      "Hello, world\n"
     ]
    }
   ],
   "source": [
    "#W2A21 [Ten Hello World]\n",
    "for i in range (10):\n",
    "    print(\"Hello, world\")"
   ]
  }
 ],
 "metadata": {
  "colab": {
   "authorship_tag": "ABX9TyP6oWvO6nDlhvmAuqGuXw7l",
   "provenance": []
  },
  "kernelspec": {
   "display_name": ".venv",
   "language": "python",
   "name": "python3"
  },
  "language_info": {
   "codemirror_mode": {
    "name": "ipython",
    "version": 3
   },
   "file_extension": ".py",
   "mimetype": "text/x-python",
   "name": "python",
   "nbconvert_exporter": "python",
   "pygments_lexer": "ipython3",
   "version": "3.12.10"
  }
 },
 "nbformat": 4,
 "nbformat_minor": 0
}
