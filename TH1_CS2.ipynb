{
 "cells": [
  {
   "cell_type": "code",
   "execution_count": null,
   "id": "e3c1952d",
   "metadata": {},
   "outputs": [],
   "source": [
    "#W1A1\n",
    "a = 7 # gán giá trị 7 cho a\n",
    "b = 5 # gán giá trị 5 cho b\n",
    "c = a - b # lấy giá trị a trừ đi giá trị b (7 - 5) rồi gán cho c\n",
    "print(c) # in ra giá trị của biến c (2)\n"
   ]
  },
  {
   "cell_type": "code",
   "execution_count": null,
   "id": "e1b1ab63",
   "metadata": {},
   "outputs": [],
   "source": [
    "#W1A2\n",
    "city = \"Hà Nội\" # gán chuỗi \"Hà Nội\" cho biến city\n",
    "year = 2025 # gán giá trị 2025 cho biến year\n",
    "print(\"Thành phố: \", city, \" - Năm: \", year) # in ra lần lượt chuỗi \"Thành phố: \" -> giá trị của city -> \" - Năm: \" -> giá trị của year\n",
    "# Kết quả \"Thành phố: Hà Nội - Năm: 2025\"\n"
   ]
  },
  {
   "cell_type": "code",
   "execution_count": null,
   "id": "aad7c8b1",
   "metadata": {},
   "outputs": [],
   "source": [
    "#W1A3\n",
    "n = 4 # gán giá trị 4 cho n\n",
    "t = 0 # gán giá trị 0 cho t\n",
    "for i in range (1, n + 1): # lặp t từ 1 đến n\n",
    "    t += i # cộng vào t giá trị i mỗi lần lặp (t = t + i)\n",
    "print(t) # in ra giá trị t\n",
    "'''\n",
    "    Cụ thể các vòng lặp:\n",
    "\n",
    "Lặp 1: i = 1 → t = 0 + 1 = 1\n",
    "\n",
    "Lặp 2: i = 2 → t = 1 + 2 = 3\n",
    "\n",
    "Lặp 3: i = 3 → t = 3 + 3 = 6\n",
    "\n",
    "Lặp 4: i = 4 → t = 6 + 4 = 10\n",
    "\n",
    "Kết quả in ra cuối cùng 10.\n",
    "'''"
   ]
  },
  {
   "cell_type": "code",
   "execution_count": null,
   "id": "9a10189b",
   "metadata": {},
   "outputs": [],
   "source": [
    "#W1A4\n",
    "numbers = [1, 2, 3, 4] # Khởi tạo một danh sách gồm các số: [1, 2, 3, 4].\n",
    "for x in numbers: \n",
    "    if x % 2 == 0:\n",
    "        print(x, \"là số chẵn\")\n",
    "    else:\n",
    "        print(x, \"là số lẻ\")\n",
    "#Dùng vòng lặp for để lặp qua từng phần tử trong danh sách numbers, mỗi lần lặp, biến x sẽ nhận giá trị của một số trong danh sách: 1, 2, 3, và 4.\n"
   ]
  },
  {
   "cell_type": "code",
   "execution_count": null,
   "id": "bc76cd3c",
   "metadata": {},
   "outputs": [],
   "source": [
    "#W1A5\n",
    "animals = [\"cat\", \"dog\", \"cat\", \"bird\"]\n",
    "count = 0\n",
    "for a in animals:\n",
    "    count += 1\n",
    "\n",
    "print(\"Số phần tử trong danh sách là:\", count)\n",
    "# đếm số lượng động vật\n",
    "# kết quả: Số phần tử trong danh sách là: 4\n"
   ]
  },
  {
   "cell_type": "code",
   "execution_count": null,
   "id": "3d0a4bb4",
   "metadata": {},
   "outputs": [],
   "source": [
    "#W1A6\n",
    "print(\"=== AI Prediction System ===\")\n",
    "print(\"1) Sentiment analysis\")\n",
    "print(\"2) Weather forecast\")\n",
    "print(\"3) Exit\")\n",
    "# in ra tiêu đề và các lựa chọn"
   ]
  },
  {
   "cell_type": "code",
   "execution_count": null,
   "id": "fd491a09",
   "metadata": {},
   "outputs": [],
   "source": [
    "#W1A7\n",
    "num = int(input(\"Nhập số: \"))\n",
    "if num % 2 == 0:\n",
    "    print(\"Số chẵn\")\n",
    "else:\n",
    "    print(\"Số lẻ\")\n",
    "'''\n",
    "Trong câu if, bạn dùng toán tử gán = thay vì toán tử so sánh ==.\n",
    "\n",
    "Sai: if num % 2 = 0:\n",
    "\n",
    "Đúng: if num % 2 == 0:\n",
    "\n",
    "Thiếu dấu : sau else.\n",
    "\n",
    "Sai: else\n",
    "\n",
    "Đúng: else:\n",
    "'''\n"
   ]
  },
  {
   "cell_type": "code",
   "execution_count": null,
   "id": "e2e91f65",
   "metadata": {},
   "outputs": [],
   "source": [
    "#W1A8\n",
    "for i in range(3):\n",
    "    print(\"AI đang học lần\", i + 1)\n",
    "print(\"Huấn luyện xong!\")\n",
    "'''\n",
    "\n",
    "Vòng lặp for sẽ chạy 3 lần, với i lần lượt bằng 0, 1, 2.\n",
    "\n",
    "Trong mỗi lần lặp, in ra dòng \"AI đang học lần\" kèm theo số thứ tự.\n",
    "\n",
    "Vì i bắt đầu từ 0, nên dùng i + 1 để in ra số lần đúng (1, 2, 3).\n",
    "\n",
    "Kết quả từng vòng lặp:\n",
    "\n",
    "Lần 1: \"AI đang học lần 1\"\n",
    "\n",
    "Lần 2: \"AI đang học lần 2\"\n",
    "\n",
    "Lần 3: \"AI đang học lần 3\"\n",
    "\n",
    "print(\"Huấn luyện xong!\")\n",
    "\n",
    "Lệnh này nằm ngoài vòng lặp nên chỉ chạy một lần duy nhất sau khi vòng lặp kết thúc\n",
    "'''"
   ]
  },
  {
   "cell_type": "code",
   "execution_count": null,
   "id": "e6449641",
   "metadata": {},
   "outputs": [],
   "source": [
    "#W1A9\n",
    "for x in [\"cat\", \"dog\", \"fish\"]:\n",
    "    print(\"Dự đoán con vật:\", x)\n",
    "'''\n",
    "Vòng lặp for sẽ duyệt qua từng phần tử trong danh sách [\"cat\", \"dog\", \"fish\"].\n",
    "\n",
    "Biến x lần lượt nhận giá trị \"cat\", \"dog\", \"fish\".\n",
    "\n",
    "Mỗi vòng lặp sẽ in ra dòng \"Dự đoán con vật:\" kèm theo giá trị của x.\n",
    "'''"
   ]
  },
  {
   "cell_type": "code",
   "execution_count": null,
   "id": "5b00c767",
   "metadata": {},
   "outputs": [],
   "source": [
    "#W1A10\n",
    "# Simple menu\n",
    "print(\"=== AI Prediction System ===\")\n",
    "print(\"1) Sentiment analysis\")\n",
    "print(\"2) Weather forecast\")\n",
    "print(\"3) Exit\")\n",
    "print(\"Please choose an option:\")\n",
    "'''\n",
    "print \"...\" chỉ đúng với Python 2, trong Python 3 phải dùng print(\"...\").\n",
    "\n",
    "Có dấu ngoặc ) và ' thừa.\n",
    "'''"
   ]
  }
 ],
 "metadata": {
  "language_info": {
   "name": "python"
  }
 },
 "nbformat": 4,
 "nbformat_minor": 5
}
