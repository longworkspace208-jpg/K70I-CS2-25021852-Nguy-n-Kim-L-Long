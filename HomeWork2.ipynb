{
 "cells": [
  {
   "cell_type": "code",
   "execution_count": null,
   "id": "cca6956b",
   "metadata": {},
   "outputs": [
    {
     "name": "stdout",
     "output_type": "stream",
     "text": [
      "34\n"
     ]
    }
   ],
   "source": [
    "# Bai 1\n",
    "a, b = map(int, input().split())\n",
    "print(a, b)"
   ]
  },
  {
   "cell_type": "code",
   "execution_count": 4,
   "id": "479e1e7f",
   "metadata": {},
   "outputs": [
    {
     "name": "stdout",
     "output_type": "stream",
     "text": [
      "Dien tich hinh tron: 28.26\n",
      "Chu vi hinh tron: 18.84\n"
     ]
    }
   ],
   "source": [
    "# Bai 2\n",
    "a = int(input())\n",
    "Chuvi = a * 2 * 3.14\n",
    "Dientich = 3.14 * a * a\n",
    "print(f\"Dien tich hinh tron: {Dientich:.2f}\")\n",
    "print(f\"Chu vi hinh tron: {Chuvi:.2f}\")"
   ]
  },
  {
   "cell_type": "code",
   "execution_count": null,
   "id": "0eea06d3",
   "metadata": {},
   "outputs": [
    {
     "name": "stdout",
     "output_type": "stream",
     "text": [
      "Tam Giac Deu\n",
      "Dien tich:  3.90\n",
      "Chuvi: 9\n"
     ]
    }
   ],
   "source": [
    "# Bai 3\n",
    "import math\n",
    "sqrt = math.sqrt\n",
    "def Dientich(x, y, z):\n",
    "    Ncv = (x + y + z) / 2\n",
    "    return sqrt(Ncv * (Ncv - a) * (Ncv - b) * (Ncv - c))\n",
    "def Chuvi(x, y, z):\n",
    "    return x + y + z\n",
    "a, b, c = map(int, input().split())\n",
    "if a + b > c and a + c > b and c + b > a and a > 0 and b > 0 and c > 0:\n",
    "    if a * a + b * b == c * c or a * a + c * c == b * b or c * c + b * b == a * a:\n",
    "        print(\"Tam Giac Vuong\")\n",
    "    elif a == b == c:\n",
    "        print(\"Tam Giac Deu\")\n",
    "    elif (a == b and a != c) or (a == c and a != b) or (c == b and c != a):\n",
    "        print(\"Tam Giac Can\")\n",
    "    else:\n",
    "        print(\"Tam Giac Thuong\")\n",
    "    print(\"Dien tich: \", f\"{Dientich(a, b, c):.2f}\")\n",
    "    print(f\"Chuvi: {Chuvi(a, b, c)}\")\n",
    "else:\n",
    "    print(\"Khong la tam giac\")\n",
    "\n",
    "    "
   ]
  },
  {
   "cell_type": "code",
   "execution_count": null,
   "id": "1632a29b",
   "metadata": {},
   "outputs": [
    {
     "name": "stdout",
     "output_type": "stream",
     "text": [
      "Nghiem cua phuong trinh 3x + b = 0 la: -1.33\n"
     ]
    }
   ],
   "source": [
    "# Bai 4\n",
    "a = int(input())\n",
    "b = int(input())\n",
    "ans = (-b) / a\n",
    "print(f\"Nghiem cua phuong trinh {a}x + {b} = 0 la: {ans:.2f}\")"
   ]
  },
  {
   "cell_type": "code",
   "execution_count": null,
   "id": "405cbc22",
   "metadata": {},
   "outputs": [],
   "source": [
    "# Bai 5 \n",
    "import math\n",
    "sqrt = math.sqrt\n",
    "a, b, c = map(int, input().split())\n",
    "Del = b * b - 4 * a * c\n",
    "if (Del > 0):\n",
    "    x1 = ((-b - sqrt(Del)) / (2 * a))\n",
    "    x2 = ((-b + sqrt(Del)) / (2 * a))\n",
    "    print(\"Phuong trinh co 2 nghiem: \")\n",
    "    print(f\"x1 = {x1:.2f}\")\n",
    "    print(f\"x2 = {x2:.2f}\")\n",
    "elif Del == 0:\n",
    "    x = -b / (2 * a)\n",
    "    print(\"Phuong trinh co 1 nghiem:\")\n",
    "    print(f\"x = {x:.2f}\")\n",
    "else: \n",
    "    print(\"Phuong trinh vo nghiem\")\n"
   ]
  },
  {
   "cell_type": "code",
   "execution_count": 12,
   "id": "087bea62",
   "metadata": {},
   "outputs": [
    {
     "name": "stdout",
     "output_type": "stream",
     "text": [
      "So lon nhat:  6\n"
     ]
    }
   ],
   "source": [
    "# Bai 6\n",
    "a, b, c, d = map(int, input().split())\n",
    "print(\"So lon nhat: \", max(a, b, c, d))"
   ]
  },
  {
   "cell_type": "code",
   "execution_count": null,
   "id": "1f1fd28e",
   "metadata": {},
   "outputs": [],
   "source": [
    "# Bai 7\n",
    "a, b, c, d = map(int, input().split())\n",
    "print(\"So nho nhat: \", min(a, b, c, d))"
   ]
  },
  {
   "cell_type": "code",
   "execution_count": null,
   "id": "fd768f1d",
   "metadata": {},
   "outputs": [],
   "source": [
    "# Bai 8\n",
    "a, b, m, c, d, n = map(int, input().split())\n",
    "'''\n",
    "Mtran mo rong\n",
    "a b m\n",
    "c d n \n",
    "'''\n",
    "D = a * d - b * c\n",
    "Dx = m * d - b * n\n",
    "Dy = a * n - m * c\n",
    "\n",
    "if D != 0:\n",
    "    x = Dx / D\n",
    "    y = Dy / D\n",
    "    print(f\"{x:.2f}, {y:.2f} la 1 bo nghiem cua phuong trinh\")\n",
    "elif Dx == 0 and Dy == 0:\n",
    "    print(\"Phuong trinh vo so nghiem\")\n",
    "else:\n",
    "    print(\"Phuong trinh vo nghiem\")\n"
   ]
  },
  {
   "cell_type": "code",
   "execution_count": 14,
   "id": "3a331cfa",
   "metadata": {},
   "outputs": [
    {
     "name": "stdout",
     "output_type": "stream",
     "text": [
      "Cong viec can 1 Gio 1 Phut 1 Giay\n"
     ]
    }
   ],
   "source": [
    "# Bai 9\n",
    "Second = int(input())\n",
    "Hour = Second // 3600\n",
    "Minute = (Second - 3600 * Hour) // 60\n",
    "Second = Second - 3600 * Hour - 60 * Minute\n",
    "print(f\"Cong viec can {Hour} Gio {Minute} Phut {Second} Giay\")"
   ]
  },
  {
   "cell_type": "code",
   "execution_count": null,
   "id": "cd0d5d41",
   "metadata": {},
   "outputs": [],
   "source": [
    "# Bai 10\n",
    "a, b, r = map(int, input(\"Nhap toa do tam va ban kinh\").split())\n",
    "x, y = map(int, input(\"Nhap toa do diem A\").split())\n",
    "Dis2 = (x - a) ** 2 + (y - b) ** 2\n",
    "if r * r > Dis2:\n",
    "    print(\"Diem A nam trong duong tron\")\n",
    "else:\n",
    "    print(\"Diem A khong thuong duong tron\")\n"
   ]
  },
  {
   "cell_type": "code",
   "execution_count": null,
   "id": "1ea2361c",
   "metadata": {},
   "outputs": [],
   "source": [
    "# Bai 11\n",
    "import cmath\n",
    "\n",
    "x = float(input(\"Nhap x:\"))\n",
    "y = float(input(\"Nhap y:\"))\n",
    "print(\"x^y =\", cmath.exp(y * cmath.log(x)))\n",
    "'''\n",
    "x^y = e^(y * lnx)\n",
    "math.exp(x) = e^x\n",
    "print(math.log(x))        # ln(x) ≈ 1.609\n",
    "print(math.log10(x))      # log10(x) ≈ 0.699\n",
    "print(math.log(x, base))     # logbase(x) = 3\n",
    "'''\n"
   ]
  }
 ],
 "metadata": {
  "kernelspec": {
   "display_name": "Python 3",
   "language": "python",
   "name": "python3"
  },
  "language_info": {
   "codemirror_mode": {
    "name": "ipython",
    "version": 3
   },
   "file_extension": ".py",
   "mimetype": "text/x-python",
   "name": "python",
   "nbconvert_exporter": "python",
   "pygments_lexer": "ipython3",
   "version": "3.12.10"
  }
 },
 "nbformat": 4,
 "nbformat_minor": 5
}
