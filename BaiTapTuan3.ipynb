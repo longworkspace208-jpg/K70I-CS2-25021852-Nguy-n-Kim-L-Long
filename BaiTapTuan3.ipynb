{
 "cells": [
  {
   "cell_type": "code",
   "execution_count": null,
   "id": "f09ef523",
   "metadata": {},
   "outputs": [],
   "source": [
    "#W3A2\n",
    "a = int(input())\n",
    "b = int(input())\n",
    "a = a ^ b\n",
    "b = a ^ b\n",
    "a = a ^ b\n",
    "print(f\"Sau khi hoán đổi: a = {a}, b = {b}\")"
   ]
  },
  {
   "cell_type": "code",
   "execution_count": null,
   "id": "ca921d3a",
   "metadata": {},
   "outputs": [],
   "source": [
    "#W3A3\n",
    "a = int(input())\n",
    "if (a & (a - 1)) == 0:\n",
    "    print(f\"{a} là 1 lũy thừa của 2\")\n",
    "else:\n",
    "    print(f\"{a} không phải là lũy thừa của 2\")"
   ]
  },
  {
   "cell_type": "code",
   "execution_count": null,
   "id": "43f7e7cb",
   "metadata": {},
   "outputs": [
    {
     "name": "stdout",
     "output_type": "stream",
     "text": [
      "-3\n"
     ]
    }
   ],
   "source": [
    "#W3A4\n",
    "m, n = map(int, input().split())\n",
    "print(m // n)\n"
   ]
  },
  {
   "cell_type": "code",
   "execution_count": null,
   "id": "075744b1",
   "metadata": {},
   "outputs": [],
   "source": [
    "#W3A5\n",
    "import math\n",
    "m, n = map(int, input().split())\n",
    "print(math.ceil(m/n))"
   ]
  },
  {
   "cell_type": "code",
   "execution_count": null,
   "id": "2dd4e8b9",
   "metadata": {},
   "outputs": [
    {
     "name": "stdout",
     "output_type": "stream",
     "text": [
      "Odd\n"
     ]
    }
   ],
   "source": [
    "#W3A6\n",
    "a = int(input())\n",
    "if (a & 1 == 1):\n",
    "    print(\"Odd\")\n",
    "else:\n",
    "    print(\"Even\")"
   ]
  },
  {
   "cell_type": "code",
   "execution_count": null,
   "id": "1789a8e6",
   "metadata": {},
   "outputs": [],
   "source": [
    "#W3A7\n",
    "a, b = map(int, input().split())\n",
    "if (a < 0 and b < 0):\n",
    "    print(\"Yes\")\n",
    "else:\n",
    "    print(\"No\")"
   ]
  },
  {
   "cell_type": "code",
   "execution_count": null,
   "id": "e181fd48",
   "metadata": {},
   "outputs": [],
   "source": [
    "#W3A8\n",
    "a = input()\n",
    "b = input()\n",
    "if (len(a) > len(b)):\n",
    "    print(\"Yes\")\n",
    "else:\n",
    "    print(\"No\")"
   ]
  },
  {
   "cell_type": "code",
   "execution_count": null,
   "id": "62fc6ce3",
   "metadata": {},
   "outputs": [],
   "source": [
    "#W3A9\n",
    "a, b, c = map(int, input().split())\n",
    "if a + b > c and a + c > b and c + b > a and a > 0 and b > 0 and c > 0:\n",
    "    print(\"Yes\")\n",
    "else:\n",
    "    print(\"No\")"
   ]
  },
  {
   "cell_type": "code",
   "execution_count": null,
   "id": "64b4be64",
   "metadata": {},
   "outputs": [],
   "source": [
    "#W3A10\n",
    "a, b, c, d = map(int, input().split())\n",
    "print(max(a, b, c, d))"
   ]
  },
  {
   "cell_type": "code",
   "execution_count": null,
   "id": "07b1b431",
   "metadata": {},
   "outputs": [],
   "source": [
    "#W3A11\n",
    "import math\n",
    "sqrt = math.sqrt\n",
    "a, b, c = map(int, input().split())\n",
    "if a + b > c and a + c > b and c + b > a and a > 0 and b > 0 and c > 0:\n",
    "    if a * a + b * b == c * c or a * a + c * c == b * b or c * c + b * b == a * a:\n",
    "        print(\"Tam Giac Vuong\")\n",
    "    elif a == b == c:\n",
    "        print(\"Tam Giac Deu\")\n",
    "    elif (a == b and a != c) or (a == c and a != b) or (c == b and c != a):\n",
    "        print(\"Tam Giac Can\")\n",
    "    else:\n",
    "        print(\"Tam Giac Thuong\")\n",
    "else:\n",
    "    print(\"Khong la tam giac\")"
   ]
  },
  {
   "cell_type": "code",
   "execution_count": null,
   "id": "0c93ae73",
   "metadata": {},
   "outputs": [],
   "source": [
    "#W3A12\n",
    "n = int(input())\n",
    "if n % 4 == 0 and (n % 400 != 0 or n % 100 != 0):\n",
    "    print(\"Yes\")\n",
    "else:\n",
    "    print(\"No\")"
   ]
  },
  {
   "cell_type": "code",
   "execution_count": null,
   "id": "da783ed6",
   "metadata": {},
   "outputs": [],
   "source": [
    "#W3A14\n",
    "a = int(input())\n",
    "b = int(input())\n",
    "ans = float((-b) / a)\n",
    "print(f\"{ans:.2f}\")"
   ]
  },
  {
   "cell_type": "code",
   "execution_count": null,
   "id": "978d2355",
   "metadata": {},
   "outputs": [],
   "source": [
    "#W3A15\n",
    "a = float(input())\n",
    "if a > 8.0:\n",
    "    print(\"Giỏi\")\n",
    "elif a >= 6.5:\n",
    "    print(\"Khá\")\n",
    "elif a >= 5.0:\n",
    "    print(\"Trung Bình\")\n",
    "else:\n",
    "    print(\"Yếu\")"
   ]
  },
  {
   "cell_type": "code",
   "execution_count": null,
   "id": "7a8bc555",
   "metadata": {},
   "outputs": [],
   "source": [
    "#W3A15\n",
    "x = float(input(\"Nhập số thực: \"))\n",
    "\n",
    "# Làm tròn xuống\n",
    "if x >= 0:\n",
    "    floor_val = int(x)\n",
    "else:\n",
    "    floor_val = int(x) if x == int(x) else int(x) - 1\n",
    "\n",
    "# Làm tròn lên\n",
    "if x >= 0:\n",
    "    ceil_val = int(x) if x == int(x) else int(x) + 1\n",
    "else:\n",
    "    ceil_val = int(x)\n",
    "\n",
    "# Làm tròn gần nhất\n",
    "frac = abs(x - int(x))\n",
    "if x >= 0:\n",
    "    if frac >= 0.5:\n",
    "        nearest = int(x) + 1\n",
    "    else:\n",
    "        nearest = int(x)\n",
    "else:\n",
    "    if frac >= 0.5:\n",
    "        nearest = int(x) - 1\n",
    "    else:\n",
    "        nearest = int(x)\n",
    "\n",
    "print(ceil_val, floor_val, nearest)"
   ]
  },
  {
   "cell_type": "code",
   "execution_count": null,
   "id": "94462e4c",
   "metadata": {},
   "outputs": [],
   "source": [
    "#W3A17\n",
    "a, b, c, d = map(int, input().split())\n",
    "if b % a == 0:\n",
    "    Congboi = b / a\n",
    "    if b * Congboi == c and b * Congboi * Congboi == d:\n",
    "        print(\"Yes\")\n",
    "    else:\n",
    "        print(\"No\")\n",
    "else:\n",
    "    print(\"No\")"
   ]
  }
 ],
 "metadata": {
  "kernelspec": {
   "display_name": "Python 3",
   "language": "python",
   "name": "python3"
  },
  "language_info": {
   "codemirror_mode": {
    "name": "ipython",
    "version": 3
   },
   "file_extension": ".py",
   "mimetype": "text/x-python",
   "name": "python",
   "nbconvert_exporter": "python",
   "pygments_lexer": "ipython3",
   "version": "3.12.10"
  }
 },
 "nbformat": 4,
 "nbformat_minor": 5
}
