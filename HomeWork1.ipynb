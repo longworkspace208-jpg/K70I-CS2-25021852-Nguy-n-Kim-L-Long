{
 "cells": [
  {
   "cell_type": "code",
   "execution_count": null,
   "id": "c9fb73bc",
   "metadata": {},
   "outputs": [
    {
     "name": "stdout",
     "output_type": "stream",
     "text": [
      "8\n"
     ]
    }
   ],
   "source": [
    "# Bai 1\n",
    "n = int(input())\n",
    "print(f\"{n * 2}\")"
   ]
  },
  {
   "cell_type": "code",
   "execution_count": null,
   "id": "a652a9a0",
   "metadata": {},
   "outputs": [
    {
     "name": "stdout",
     "output_type": "stream",
     "text": [
      "12.56\n"
     ]
    }
   ],
   "source": [
    "# Bai 2\n",
    "a = int(input())\n",
    "b = int(input())\n",
    "Cir = (a / 2) ** 2 * 3.14\n",
    "print(f\"{Cir:.2f}\")"
   ]
  },
  {
   "cell_type": "code",
   "execution_count": null,
   "id": "604eab47",
   "metadata": {},
   "outputs": [
    {
     "name": "stdout",
     "output_type": "stream",
     "text": [
      "A\n"
     ]
    }
   ],
   "source": [
    "# Bai 3\n",
    "ch = input()\n",
    "if ch[0] >= 'a' and ch <= 'z':\n",
    "    print(chr(ord(ch[0]) - 32))\n",
    "else:\n",
    "    print(chr(ord(ch[0]) + 32))"
   ]
  },
  {
   "cell_type": "code",
   "execution_count": 18,
   "id": "09681d5b",
   "metadata": {},
   "outputs": [
    {
     "name": "stdout",
     "output_type": "stream",
     "text": [
      "a la ki tu alphabet\n"
     ]
    }
   ],
   "source": [
    "# Bai 4\n",
    "ch = input()\n",
    "if (ch >= 'a' and ch <= 'z') or (ch >= 'A' and ch <= 'Z'):\n",
    "    print(f\"{ch} la ki tu alphabet\")\n",
    "else:\n",
    "    print(f\"{ch} khong phai la ki tu alphabet\")\n",
    "    "
   ]
  },
  {
   "cell_type": "code",
   "execution_count": null,
   "id": "5b5f353d",
   "metadata": {},
   "outputs": [
    {
     "name": "stdout",
     "output_type": "stream",
     "text": [
      "A\n"
     ]
    }
   ],
   "source": [
    "# Bai 5\n",
    "ch = input()\n",
    "if ch != 'A':\n",
    "    print(chr(ord(ch) - 1))\n",
    "else:\n",
    "    print(f\"{ch} la truong hop dac biet\")\n"
   ]
  },
  {
   "cell_type": "code",
   "execution_count": null,
   "id": "8a7959b8",
   "metadata": {},
   "outputs": [
    {
     "name": "stdout",
     "output_type": "stream",
     "text": [
      "6.0\n"
     ]
    }
   ],
   "source": [
    "# Bai 6\n",
    "import math\n",
    "sqrt = math.sqrt\n",
    "\n",
    "def S(A, B, C):\n",
    "    N = (A + B + C) / 2\n",
    "    return sqrt(N * (N - A) * (N - B) * (N - C));\n",
    "a, b, c = map(int, input().split())\n",
    "if a + b >= c and a + c >= b and b + c >= a:\n",
    "    print(f\"{S(a, b, c):.1f}\")\n",
    "else:\n",
    "    print(\"Khong phai 3 canh cua tam giac\")\n",
    "    "
   ]
  },
  {
   "cell_type": "code",
   "execution_count": null,
   "id": "868b22c2",
   "metadata": {},
   "outputs": [
    {
     "name": "stdout",
     "output_type": "stream",
     "text": [
      "5 9\n"
     ]
    }
   ],
   "source": [
    "# Bai 7\n",
    "st = input()\n",
    "print(st[4], st[8])"
   ]
  },
  {
   "cell_type": "code",
   "execution_count": null,
   "id": "166cddcd",
   "metadata": {},
   "outputs": [
    {
     "name": "stdout",
     "output_type": "stream",
     "text": [
      "Ho va ten: Pham Xuan Hai\n",
      "Tien phai tra la 1855505\n"
     ]
    }
   ],
   "source": [
    "# Bai 8\n",
    "Name = input(\"Ten Chu Ho: \")\n",
    "PreMonth = int(input(\"Chi so thang truoc: \"))\n",
    "Month = int(input(\"Chi so thang nay: \"))\n",
    "\n",
    "def Cal(N):\n",
    "    res = 0\n",
    "    if (N >= 401):\n",
    "        res += (N - 400) * 3460\n",
    "        N = 400\n",
    "    if N >= 301 and N <= 400:\n",
    "        res += (N - 300) * 3350\n",
    "        N = 300\n",
    "    if N >= 201 and N <= 300:\n",
    "        res += (N - 200) * 2998\n",
    "        N = 200\n",
    "    if (N >= 101 and N <= 200):\n",
    "        res += (N - 100) * 2380\n",
    "        N = 100\n",
    "    if N >= 51 and N <= 100:\n",
    "        res += (N - 50) * 2050\n",
    "        N = 50\n",
    "    if N >= 0 and N <= 50:\n",
    "        res += N * 1984\n",
    "    return res\n",
    "Ans = Cal(Month - PreMonth)\n",
    "Ans += round(Ans * 8 / 100)\n",
    "print(f\"Ho va ten: {Name}\\nTien phai tra la: {Ans}\")\n",
    "\n",
    "    \n"
   ]
  },
  {
   "cell_type": "code",
   "execution_count": 32,
   "id": "cc7ecfbc",
   "metadata": {},
   "outputs": [
    {
     "name": "stdout",
     "output_type": "stream",
     "text": [
      "odd\n"
     ]
    }
   ],
   "source": [
    "#Bai khac 1\n",
    "a = int(input())\n",
    "if a % 2:\n",
    "    print(\"odd\")\n",
    "else:\n",
    "    print(\"even\")"
   ]
  },
  {
   "cell_type": "code",
   "execution_count": 36,
   "id": "f2583eec",
   "metadata": {},
   "outputs": [
    {
     "name": "stdout",
     "output_type": "stream",
     "text": [
      "True\n"
     ]
    }
   ],
   "source": [
    "#Bai khac 2\n",
    "a = int(input())\n",
    "if (a % 10 == 5):\n",
    "    print(\"True\")\n",
    "else:\n",
    "    print(\"False\")"
   ]
  },
  {
   "cell_type": "code",
   "execution_count": null,
   "id": "df8892aa",
   "metadata": {},
   "outputs": [],
   "source": [
    "#Bai khac 3\n",
    "a = int(input())\n",
    "if a % 3 and a % 5:\n",
    "    print(\"True\")\n",
    "else:\n",
    "    print(\"False\")\n"
   ]
  },
  {
   "cell_type": "code",
   "execution_count": null,
   "id": "6770aafe",
   "metadata": {},
   "outputs": [],
   "source": [
    "#Bai khac 4\n",
    "Yearborn = int(input())\n",
    "if 2025 - Yearborn >= 18:\n",
    "    print(\"Du tuoi\")\n",
    "else:\n",
    "    print(\"khong du tuoi\")\n"
   ]
  },
  {
   "cell_type": "code",
   "execution_count": null,
   "id": "9bce3f0a",
   "metadata": {},
   "outputs": [
    {
     "name": "stdout",
     "output_type": "stream",
     "text": [
      "Hai gia tri bang nhau\n"
     ]
    }
   ],
   "source": [
    "#Bai khac 5\n",
    "a, b = map(int, input().split())\n",
    "if a == b:\n",
    "    print(f\"Hai gia tri bang nhau\")\n",
    "else:\n",
    "    print(max(a, b))\n"
   ]
  },
  {
   "cell_type": "code",
   "execution_count": null,
   "id": "d7e46acf",
   "metadata": {},
   "outputs": [
    {
     "name": "stdout",
     "output_type": "stream",
     "text": [
      "Chu so\n"
     ]
    }
   ],
   "source": [
    "#Bai khac 6\n",
    "ch = input()\n",
    "if (ch >= 'a' and ch <= 'z') or (ch >= 'A' and ch <= 'Z'):\n",
    "    print(\"Chu cai\")\n",
    "else:\n",
    "    print(\"Chu so\")"
   ]
  },
  {
   "cell_type": "code",
   "execution_count": 44,
   "id": "ae565d3d",
   "metadata": {},
   "outputs": [
    {
     "name": "stdout",
     "output_type": "stream",
     "text": [
      "Kha\n"
     ]
    }
   ],
   "source": [
    "#Bai khac 7\n",
    "def PhanLoai(Score):\n",
    "    Bac = [\n",
    "        (0, 5, \"Yeu\"),\n",
    "        (5, 6.5, \"Trung Binh\"),\n",
    "        (6.5, 8, \"Kha\"),\n",
    "        (8, 10, \"Gioi\"),\n",
    "    ]\n",
    "    for l, r, type in Bac:\n",
    "        if (Score >= l and Score < r):\n",
    "            return type\n",
    "a = float(input())\n",
    "print(PhanLoai(a))"
   ]
  },
  {
   "cell_type": "code",
   "execution_count": 49,
   "id": "89f9ecd5",
   "metadata": {},
   "outputs": [
    {
     "name": "stdout",
     "output_type": "stream",
     "text": [
      "True\n"
     ]
    }
   ],
   "source": [
    "#Bai khac 8\n",
    "Year = int(input())\n",
    "if (Year % 400 == 0 or Year % 4 == 0) and Year % 100 != 0:\n",
    "    print(\"True\")\n",
    "else:\n",
    "    print(\"False\")"
   ]
  },
  {
   "cell_type": "code",
   "execution_count": null,
   "id": "975a4bd8",
   "metadata": {},
   "outputs": [
    {
     "name": "stdout",
     "output_type": "stream",
     "text": [
      "Ngoài phạm vi 0-9\n"
     ]
    }
   ],
   "source": [
    "#Bai khac 9\n",
    "n = int(input())\n",
    "\n",
    "match n:\n",
    "    case 0: print(\"Không\")\n",
    "    case 1: print(\"Một\")\n",
    "    case 2: print(\"Hai\")\n",
    "    case 3: print(\"Ba\")\n",
    "    case 4: print(\"Bốn\")\n",
    "    case 5: print(\"Năm\")\n",
    "    case 6: print(\"Sáu\")\n",
    "    case 7: print(\"Bảy\")\n",
    "    case 8: print(\"Tám\")\n",
    "    case 9: print(\"Chín\")\n",
    "    case _: print(\"Ngoài phạm vi 0-9\")"
   ]
  },
  {
   "cell_type": "code",
   "execution_count": null,
   "id": "684f7c66",
   "metadata": {},
   "outputs": [],
   "source": [
    "#Bai khac 10\n",
    "n = int(input())\n",
    "if n >= 4:\n",
    "    print(\"Qua mon\")\n",
    "else:\n",
    "    print(\"Hoc lai\")"
   ]
  },
  {
   "cell_type": "code",
   "execution_count": 52,
   "id": "fa337dbf",
   "metadata": {},
   "outputs": [
    {
     "name": "stdout",
     "output_type": "stream",
     "text": [
      "Tuoi hien tai la: 18\n",
      "Du 18 tuoi\n"
     ]
    }
   ],
   "source": [
    "#Bai khac 11\n",
    "n = int(input())\n",
    "Age = 2025 - n\n",
    "print(f\"Tuoi hien tai la: {Age}\")\n",
    "if Age >= 18:\n",
    "    print(\"Du 18 tuoi\")\n",
    "else:\n",
    "    print(\"Chua du 18 tuoi\")"
   ]
  }
 ],
 "metadata": {
  "kernelspec": {
   "display_name": ".venv",
   "language": "python",
   "name": "python3"
  },
  "language_info": {
   "codemirror_mode": {
    "name": "ipython",
    "version": 3
   },
   "file_extension": ".py",
   "mimetype": "text/x-python",
   "name": "python",
   "nbconvert_exporter": "python",
   "pygments_lexer": "ipython3",
   "version": "3.12.10"
  }
 },
 "nbformat": 4,
 "nbformat_minor": 5
}
